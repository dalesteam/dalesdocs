{
 "cells": [
  {
   "cell_type": "markdown",
   "metadata": {},
   "source": [
    "# Setting up your system\n",
    "\n",
    "This section aids you in preparing and setting up your system to run DALES. We assume you are using a UNIX-based system and are familiar with basic terminal commands. First, we will cover the basic requirements to use DALES, which are minimally required. Second, a list of optional librariers/packages is given that will enable optimal use of DALES. Finally, we will tell how you to obtain the latest, tested version of the code (i.e., the \"main branch\")."
   ]
  },
  {
   "cell_type": "markdown",
   "metadata": {},
   "source": [
    "## Requirements\n",
    "DALES has a few general requirements for installation and usage:\n",
    "- Fortran compiler (e.g., gfortran)\n",
    "- MPI implementation (for multi-cpu runs)\n",
    "- NetCDF4 libraries (for output/input)\n",
    "- CMake libraries\n",
    "- Make (to build the code)\n",
    "\n",
    "These requirements can be easily installed on most UNIX-based systems via a package manager. For example, on `ubuntu` via the standard package manager\n",
    "```{code} shell\n",
    "sudo apt install cmake\n",
    "```\n",
    "On MacOS, a standard way to install packages is via `homebrew`\n",
    "```{code} shell\n",
    "brew install cmake\n",
    "```\n",
    "\n",
    "When using high-performance conputing (HPC) infrastructures, these requirements may already be pre-installed. Many HPC infrastructures employ sets of software modules in which case the requirements often have to be loaded in. A list of available modules on the system is then given by the following command:\n",
    "```{code} shell\n",
    "module avail\n",
    "```\n",
    "Available modules can subsequently be loaded via the `load` command, for example, loading `cmake` via:\n",
    "```{code} shell\n",
    "module load cmake\n",
    "```"
   ]
  },
  {
   "cell_type": "markdown",
   "metadata": {},
   "source": [
    "## Optional libraries/packages\n",
    "The folling list of libraries/packages can (probably: will) make your use of DALES easier:\n",
    "- FFTW3 library (better performance Fourier transforms)\n",
    "- HYPRE library (for the iterative Poisson solver)\n",
    "- Python + numpy + matplotlib (to generate input files and/or analyse output)\n",
    "- Python-netcdf4 library (to read in netcdf4 output)\n",
    "- CDO (easily merge and operate on multiple netcdf4 files)"
   ]
  },
  {
   "cell_type": "markdown",
   "metadata": {},
   "source": [
    "## Downloading the code\n",
    "The next step after installed these libraries and packages is to get the DALES code. The example below uses the `Git` software for this purpose. After going to the destination path on your system, download the code by using the command below\n",
    "```{code} shell\n",
    "<username> <currentpath> % git clone https://github.com/dalesteam/dales.git\n",
    "```\n",
    "\n",
    "Here, a new directory called `dales` should have appeared. By default, the latest main branch is checked out inside this directory (denoted by the `*`). This can be confirmed by doing the following\n",
    "```{code} shell\n",
    "cd dales\n",
    "git branch\n",
    "```\n",
    "which should give as output\n",
    "```{code} shell\n",
    "<username> dales % * main\n",
    "```\n",
    "\n",
    "Other available branches of the main repository can be viewed with the `-a` option\n",
    "```{code} shell\n",
    "<username> dales % git branch -a\n",
    "* main\n",
    "remotes/origin/3.1\n",
    "remotes/origin/3.2\n",
    "remotes/origin/4.1\n",
    "remotes/origin/4.1_TROFFEEhack\n",
    "remotes/origin/4.1_aero_m7\n",
    "...\n",
    "```\n",
    "\n",
    "Checking out a specific branch (e.g., the `ruisdael` bracnh) is done via\n",
    "```{code} shell\n",
    "git checkout -b <newname> remotes/origin/ruisdael\n",
    "```"
   ]
  },
  {
   "cell_type": "markdown",
   "metadata": {},
   "source": [
    "### Planning on coding yourself in DALES?\n",
    "If you plan to change parts of the code and want to keep track of your changes, it may be worthwhile to use your personal Github account and first fork the main repository. The steps to get the code on your system are then slightly different.\n",
    "\n",
    "```{code} shell\n",
    "git remote add origin https://github.com/<your_account>/dales.git\n",
    "git remote add upstream https://github.com/dalesteam/dales.git\n",
    "\n",
    "git config --global user.name \"YOUR NAME\"\n",
    "git config checkout.defaultRemote origin\n",
    "\n",
    "git fetch --all\n",
    "\n",
    "git checkout -b main origin/main\n",
    "```\n",
    "```{note}\n",
    "This option will checkout the code in your current directory, _without_ first making a separate `dales` destination directory.\n",
    "```"
   ]
  },
  {
   "cell_type": "markdown",
   "metadata": {},
   "source": []
  }
 ],
 "metadata": {
  "kernelspec": {
   "display_name": "dalesdocs",
   "language": "python",
   "name": "python3"
  },
  "language_info": {
   "codemirror_mode": {
    "name": "ipython",
    "version": 3
   },
   "file_extension": ".py",
   "mimetype": "text/x-python",
   "name": "python",
   "nbconvert_exporter": "python",
   "pygments_lexer": "ipython3",
   "version": "3.13.0"
  }
 },
 "nbformat": 4,
 "nbformat_minor": 2
}
