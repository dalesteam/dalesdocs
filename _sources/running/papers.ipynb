{
 "cells": [
  {
   "cell_type": "markdown",
   "metadata": {},
   "source": [
    "## List of publications using DALES\n",
    "The following contains a _non-exhaustive_ list of publications in which DALES was used.\n",
    "\n",
    "### 2024\n",
    "- Liqui Lung, F., Jakob, C., Siebesma, A. P. and Jansson, F. (2024). _Open boundary conditions for atmospheric large-eddy simulations and their implementation in DALES4.4_. Geoscientific Model Development, **17(9)**, 4053--4076, https://doi.org/10.5194/gmd-17-4053-2024\n",
    "### 2023\n",
    "-  Jansson, F., Janssens, M., Grönqvist, J. H., Siebesma, A. P., Glassmeier, F., Attema, J., et al. (2023). _Cloud Botany: Shallow cumulus clouds in an ensemble of idealized large-domain large-eddy simulations of the trades_. Journal of Advances in Modeling Earth Systems, **15**, e2023MS003796. https://doi.org/10.1029/2023MS003796 \n",
    "### 2022\n",
    "\n",
    "### 2021\n",
    "\n",
    "### 2020 and before"
   ]
  }
 ],
 "metadata": {
  "kernelspec": {
   "display_name": "dalesdocs",
   "language": "python",
   "name": "python3"
  },
  "language_info": {
   "codemirror_mode": {
    "name": "ipython",
    "version": 3
   },
   "file_extension": ".py",
   "mimetype": "text/x-python",
   "name": "python",
   "nbconvert_exporter": "python",
   "pygments_lexer": "ipython3",
   "version": "3.13.0"
  }
 },
 "nbformat": 4,
 "nbformat_minor": 2
}
